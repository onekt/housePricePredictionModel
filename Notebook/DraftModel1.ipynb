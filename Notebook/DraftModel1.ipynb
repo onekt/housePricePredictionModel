{
 "cells": [
  {
   "cell_type": "code",
   "execution_count": 4,
   "id": "1d4542ec",
   "metadata": {},
   "outputs": [
    {
     "name": "stdout",
     "output_type": "stream",
     "text": [
      "Requirement already satisfied: numpy in c:\\users\\agi\\desktop\\projects\\aiandml\\hpp_model\\env\\lib\\site-packages (2.2.6)\n",
      "Note: you may need to restart the kernel to use updated packages.\n"
     ]
    },
    {
     "name": "stderr",
     "output_type": "stream",
     "text": [
      "\n",
      "[notice] A new release of pip is available: 24.3.1 -> 25.1.1\n",
      "[notice] To update, run: python.exe -m pip install --upgrade pip\n"
     ]
    },
    {
     "name": "stdout",
     "output_type": "stream",
     "text": [
      "Requirement already satisfied: matplotlib in c:\\users\\agi\\desktop\\projects\\aiandml\\hpp_model\\env\\lib\\site-packages (3.10.3)\n",
      "Requirement already satisfied: contourpy>=1.0.1 in c:\\users\\agi\\desktop\\projects\\aiandml\\hpp_model\\env\\lib\\site-packages (from matplotlib) (1.3.2)\n",
      "Requirement already satisfied: cycler>=0.10 in c:\\users\\agi\\desktop\\projects\\aiandml\\hpp_model\\env\\lib\\site-packages (from matplotlib) (0.12.1)\n",
      "Requirement already satisfied: fonttools>=4.22.0 in c:\\users\\agi\\desktop\\projects\\aiandml\\hpp_model\\env\\lib\\site-packages (from matplotlib) (4.58.1)\n",
      "Requirement already satisfied: kiwisolver>=1.3.1 in c:\\users\\agi\\desktop\\projects\\aiandml\\hpp_model\\env\\lib\\site-packages (from matplotlib) (1.4.8)\n",
      "Requirement already satisfied: numpy>=1.23 in c:\\users\\agi\\desktop\\projects\\aiandml\\hpp_model\\env\\lib\\site-packages (from matplotlib) (2.2.6)\n",
      "Requirement already satisfied: packaging>=20.0 in c:\\users\\agi\\desktop\\projects\\aiandml\\hpp_model\\env\\lib\\site-packages (from matplotlib) (25.0)\n",
      "Requirement already satisfied: pillow>=8 in c:\\users\\agi\\desktop\\projects\\aiandml\\hpp_model\\env\\lib\\site-packages (from matplotlib) (11.2.1)\n",
      "Requirement already satisfied: pyparsing>=2.3.1 in c:\\users\\agi\\desktop\\projects\\aiandml\\hpp_model\\env\\lib\\site-packages (from matplotlib) (3.2.3)\n",
      "Requirement already satisfied: python-dateutil>=2.7 in c:\\users\\agi\\desktop\\projects\\aiandml\\hpp_model\\env\\lib\\site-packages (from matplotlib) (2.9.0.post0)\n",
      "Requirement already satisfied: six>=1.5 in c:\\users\\agi\\desktop\\projects\\aiandml\\hpp_model\\env\\lib\\site-packages (from python-dateutil>=2.7->matplotlib) (1.17.0)\n",
      "Note: you may need to restart the kernel to use updated packages.\n"
     ]
    },
    {
     "name": "stderr",
     "output_type": "stream",
     "text": [
      "\n",
      "[notice] A new release of pip is available: 24.3.1 -> 25.1.1\n",
      "[notice] To update, run: python.exe -m pip install --upgrade pip\n"
     ]
    },
    {
     "name": "stdout",
     "output_type": "stream",
     "text": [
      "Requirement already satisfied: pandas in c:\\users\\agi\\desktop\\projects\\aiandml\\hpp_model\\env\\lib\\site-packages (2.2.3)\n",
      "Requirement already satisfied: numpy>=1.26.0 in c:\\users\\agi\\desktop\\projects\\aiandml\\hpp_model\\env\\lib\\site-packages (from pandas) (2.2.6)\n",
      "Requirement already satisfied: python-dateutil>=2.8.2 in c:\\users\\agi\\desktop\\projects\\aiandml\\hpp_model\\env\\lib\\site-packages (from pandas) (2.9.0.post0)\n",
      "Requirement already satisfied: pytz>=2020.1 in c:\\users\\agi\\desktop\\projects\\aiandml\\hpp_model\\env\\lib\\site-packages (from pandas) (2025.2)\n",
      "Requirement already satisfied: tzdata>=2022.7 in c:\\users\\agi\\desktop\\projects\\aiandml\\hpp_model\\env\\lib\\site-packages (from pandas) (2025.2)\n",
      "Requirement already satisfied: six>=1.5 in c:\\users\\agi\\desktop\\projects\\aiandml\\hpp_model\\env\\lib\\site-packages (from python-dateutil>=2.8.2->pandas) (1.17.0)\n",
      "Note: you may need to restart the kernel to use updated packages.\n"
     ]
    },
    {
     "name": "stderr",
     "output_type": "stream",
     "text": [
      "\n",
      "[notice] A new release of pip is available: 24.3.1 -> 25.1.1\n",
      "[notice] To update, run: python.exe -m pip install --upgrade pip\n"
     ]
    }
   ],
   "source": [
    "%pip install numpy\n",
    "%pip install matplotlib\n",
    "%pip install pandas"
   ]
  },
  {
   "cell_type": "code",
   "execution_count": 1,
   "id": "34385f88",
   "metadata": {},
   "outputs": [],
   "source": [
    "import numpy as np\n",
    "import matplotlib.pyplot as plt\n",
    "import pandas as pd\n",
    "import os"
   ]
  },
  {
   "cell_type": "code",
   "execution_count": 6,
   "id": "a8daa5e1",
   "metadata": {},
   "outputs": [
    {
     "name": "stdout",
     "output_type": "stream",
     "text": [
      "Current working directory: c:\\Users\\AGI\\Desktop\\Projects\\AIandML\\hpp_model\\Notebook\n"
     ]
    }
   ],
   "source": [
    "print(\"Current working directory:\", os.getcwd())"
   ]
  },
  {
   "cell_type": "code",
   "execution_count": 7,
   "id": "634437b1",
   "metadata": {},
   "outputs": [
    {
     "name": "stdout",
     "output_type": "stream",
     "text": [
      "File loaded successfully. Housing.csv\n"
     ]
    }
   ],
   "source": [
    "new_dir = r\"c:\\Users\\AGI\\Desktop\\Projects\\AIandML\\hpp_model\\Data\\Processed\"\n",
    "os.chdir(new_dir)\n",
    "file_path = \"Housing.csv\"\n",
    "if os.path.exists(file_path):\n",
    "\tdf = pd.read_csv(file_path)\n",
    "\tprint(\"File loaded successfully.\", file_path)\n",
    "else:\n",
    "\tprint(f\"File not found: {file_path}\")\n",
    "\tdf = None"
   ]
  },
  {
   "cell_type": "code",
   "execution_count": 17,
   "id": "28ad17d4",
   "metadata": {},
   "outputs": [
    {
     "name": "stdout",
     "output_type": "stream",
     "text": [
      "Index(['price', 'area', 'bedrooms', 'bathrooms', 'stories', 'mainroad',\n",
      "       'guestroom', 'basement', 'hotwaterheating', 'airconditioning',\n",
      "       'parking', 'prefarea', 'furnishingstatus'],\n",
      "      dtype='object')\n"
     ]
    }
   ],
   "source": [
    "data = pd.read_csv(file_path)    # this loads the actual data into a DataFrame\n",
    "\n",
    "print(data.columns)"
   ]
  },
  {
   "cell_type": "code",
   "execution_count": 14,
   "id": "b906cc3e",
   "metadata": {},
   "outputs": [
    {
     "name": "stdout",
     "output_type": "stream",
     "text": [
      "price                int64\n",
      "area                 int64\n",
      "bedrooms             int64\n",
      "bathrooms            int64\n",
      "stories              int64\n",
      "mainroad            object\n",
      "guestroom           object\n",
      "basement            object\n",
      "hotwaterheating     object\n",
      "airconditioning     object\n",
      "parking              int64\n",
      "prefarea            object\n",
      "furnishingstatus    object\n",
      "dtype: object\n"
     ]
    }
   ],
   "source": [
    "print(data.dtypes)  "
   ]
  },
  {
   "cell_type": "code",
   "execution_count": 18,
   "id": "623e7cc6",
   "metadata": {},
   "outputs": [
    {
     "name": "stdout",
     "output_type": "stream",
     "text": [
      "      price  area  bedrooms  bathrooms  stories mainroad guestroom basement  \\\n",
      "0  13300000  7420         4          2        3      yes        no       no   \n",
      "1  12250000  8960         4          4        4      yes        no       no   \n",
      "2  12250000  9960         3          2        2      yes        no      yes   \n",
      "3  12215000  7500         4          2        2      yes        no      yes   \n",
      "4  11410000  7420         4          1        2      yes       yes      yes   \n",
      "\n",
      "  hotwaterheating airconditioning  parking prefarea furnishingstatus  \n",
      "0              no             yes        2      yes        furnished  \n",
      "1              no             yes        3       no        furnished  \n",
      "2              no              no        2      yes   semi-furnished  \n",
      "3              no             yes        3      yes        furnished  \n",
      "4              no             yes        2       no        furnished  \n",
      "       price  area  bedrooms  bathrooms  stories mainroad guestroom basement  \\\n",
      "540  1820000  3000         2          1        1      yes        no      yes   \n",
      "541  1767150  2400         3          1        1       no        no       no   \n",
      "542  1750000  3620         2          1        1      yes        no       no   \n",
      "543  1750000  2910         3          1        1       no        no       no   \n",
      "544  1750000  3850         3          1        2      yes        no       no   \n",
      "\n",
      "    hotwaterheating airconditioning  parking prefarea furnishingstatus  \n",
      "540              no              no        2       no      unfurnished  \n",
      "541              no              no        0       no   semi-furnished  \n",
      "542              no              no        0       no      unfurnished  \n",
      "543              no              no        0       no        furnished  \n",
      "544              no              no        0       no      unfurnished  \n"
     ]
    }
   ],
   "source": [
    "print(data.head())\n",
    "print(data.tail())"
   ]
  }
 ],
 "metadata": {
  "kernelspec": {
   "display_name": "env",
   "language": "python",
   "name": "python3"
  },
  "language_info": {
   "codemirror_mode": {
    "name": "ipython",
    "version": 3
   },
   "file_extension": ".py",
   "mimetype": "text/x-python",
   "name": "python",
   "nbconvert_exporter": "python",
   "pygments_lexer": "ipython3",
   "version": "3.12.9"
  }
 },
 "nbformat": 4,
 "nbformat_minor": 5
}
